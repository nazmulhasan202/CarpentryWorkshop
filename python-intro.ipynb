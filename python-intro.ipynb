{
  "cells": [
    {
      "cell_type": "markdown",
      "source": [
        "# Intro to python\n",
        "Software carpentry workshop\n"
      ],
      "metadata": {
        "id": "GnNOShzO3qlO"
      }
    },
    {
      "cell_type": "code",
      "source": [
        "age = 30\n",
        "name = \"Nazmul\"\n",
        "last_name = \"Hasan\"\n",
        "print(name, last_name, \"is\", age, \"years old.\")"
      ],
      "metadata": {
        "id": "2HEKjYuL4BLP",
        "outputId": "ceb06160-a863-4152-9cb5-91437258825b",
        "colab": {
          "base_uri": "https://localhost:8080/"
        }
      },
      "execution_count": 3,
      "outputs": [
        {
          "output_type": "stream",
          "name": "stdout",
          "text": [
            "Nazmul Hasan is 30 years old.\n"
          ]
        }
      ]
    }
  ],
  "metadata": {
    "colab": {
      "provenance": []
    },
    "language_info": {
      "name": "python"
    },
    "kernelspec": {
      "name": "python3",
      "display_name": "Python 3"
    }
  },
  "nbformat": 4,
  "nbformat_minor": 0
}